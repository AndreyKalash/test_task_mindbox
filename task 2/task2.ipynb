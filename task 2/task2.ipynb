{
 "cells": [
  {
   "cell_type": "code",
   "execution_count": 1,
   "metadata": {},
   "outputs": [],
   "source": [
    "from pyspark.sql import SparkSession\n",
    "from pyspark.sql.functions import col, lit, coalesce"
   ]
  },
  {
   "cell_type": "code",
   "execution_count": 2,
   "metadata": {},
   "outputs": [],
   "source": [
    "# создание spark сессии\n",
    "spark = SparkSession.builder.getOrCreate()"
   ]
  },
  {
   "cell_type": "code",
   "execution_count": 3,
   "metadata": {},
   "outputs": [
    {
     "name": "stdout",
     "output_type": "stream",
     "text": [
      "+----------+------------+\n",
      "|product_id|product_name|\n",
      "+----------+------------+\n",
      "|         1|   Product A|\n",
      "|         2|   Product B|\n",
      "|         3|   Product C|\n",
      "|         4|   Product D|\n",
      "+----------+------------+\n",
      "\n"
     ]
    }
   ],
   "source": [
    "# тестовые данные продуктов\n",
    "products_data = [\n",
    "    (1, \"Product A\"),\n",
    "    (2, \"Product B\"),\n",
    "    (3, \"Product C\"),\n",
    "    (4, \"Product D\")\n",
    "]\n",
    "products_df = spark.createDataFrame(products_data, [\"product_id\", \"product_name\"])\n",
    "products_df.show()"
   ]
  },
  {
   "cell_type": "code",
   "execution_count": 4,
   "metadata": {},
   "outputs": [
    {
     "name": "stdout",
     "output_type": "stream",
     "text": [
      "+-----------+-------------+\n",
      "|category_id|category_name|\n",
      "+-----------+-------------+\n",
      "|          1|   Category X|\n",
      "|          2|   Category Y|\n",
      "|          3|   Category Z|\n",
      "|          4|   Category W|\n",
      "+-----------+-------------+\n",
      "\n"
     ]
    }
   ],
   "source": [
    "# тестовые данные категорий\n",
    "categories_data = [\n",
    "    (1, \"Category X\"),\n",
    "    (2, \"Category Y\"),\n",
    "    (3, \"Category Z\"),\n",
    "    (4, \"Category W\")\n",
    "]\n",
    "categories_df = spark.createDataFrame(categories_data, [\"category_id\", \"category_name\"])\n",
    "categories_df.show()"
   ]
  },
  {
   "cell_type": "code",
   "execution_count": 5,
   "metadata": {},
   "outputs": [
    {
     "name": "stdout",
     "output_type": "stream",
     "text": [
      "+----------+-----------+\n",
      "|product_id|category_id|\n",
      "+----------+-----------+\n",
      "|         1|          1|\n",
      "|         1|          2|\n",
      "|         2|          2|\n",
      "|         3|          3|\n",
      "+----------+-----------+\n",
      "\n"
     ]
    }
   ],
   "source": [
    "# тестовые данные связей продуктов и категорий\n",
    "product_category_data = [\n",
    "    (1, 1),\n",
    "    (1, 2),\n",
    "    (2, 2),\n",
    "    (3, 3),\n",
    "]\n",
    "product_category_df = spark.createDataFrame(product_category_data, [\"product_id\", \"category_id\"])\n",
    "product_category_df.show()"
   ]
  },
  {
   "cell_type": "code",
   "execution_count": 6,
   "metadata": {},
   "outputs": [],
   "source": [
    "def get_product_category_pairs(products_df, categories_df, product_category_df):\n",
    "    # объединение продуктов и связей с категориями\n",
    "    product_with_category = products_df.join(\n",
    "        product_category_df,\n",
    "        products_df.product_id == product_category_df.product_id,\n",
    "        \"left\"\n",
    "    )\n",
    "    \n",
    "    # объединение результов с категориями\n",
    "    result = product_with_category.join(\n",
    "        categories_df,\n",
    "        product_with_category.category_id == categories_df.category_id,\n",
    "        \"left\"\n",
    "    )\n",
    "    \n",
    "    # выбор нужных колонок и замена null на \"No Category\"\n",
    "    final_result = result.select(\n",
    "        col(\"product_name\"),\n",
    "        coalesce(col(\"category_name\"), lit(\"No Category\")).alias(\"category_name\")\n",
    "    ).distinct()\n",
    "    \n",
    "    return final_result"
   ]
  },
  {
   "cell_type": "code",
   "execution_count": 7,
   "metadata": {},
   "outputs": [
    {
     "name": "stdout",
     "output_type": "stream",
     "text": [
      "+------------+-------------+\n",
      "|product_name|category_name|\n",
      "+------------+-------------+\n",
      "|   Product A|   Category X|\n",
      "|   Product C|   Category Z|\n",
      "|   Product D|  No Category|\n",
      "|   Product A|   Category Y|\n",
      "|   Product B|   Category Y|\n",
      "+------------+-------------+\n",
      "\n"
     ]
    }
   ],
   "source": [
    "# вызов функции\n",
    "result_df = get_product_category_pairs(products_df, categories_df, product_category_df)\n",
    "\n",
    "# вывод результов\n",
    "result_df.show()"
   ]
  }
 ],
 "metadata": {
  "kernelspec": {
   "display_name": "Python 3",
   "language": "python",
   "name": "python3"
  },
  "language_info": {
   "codemirror_mode": {
    "name": "ipython",
    "version": 3
   },
   "file_extension": ".py",
   "mimetype": "text/x-python",
   "name": "python",
   "nbconvert_exporter": "python",
   "pygments_lexer": "ipython3",
   "version": "3.7.3"
  }
 },
 "nbformat": 4,
 "nbformat_minor": 2
}